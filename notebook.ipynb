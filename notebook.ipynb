{
 "cells": [
  {
   "cell_type": "code",
   "execution_count": 1,
   "id": "aef5a74a",
   "metadata": {},
   "outputs": [],
   "source": [
    "import pandas as pd\n",
    "import seaborn as sns\n",
    "import matplotlib.pyplot as plt\n",
    "from scipy.stats import ttest_ind\n",
    "import re"
   ]
  },
  {
   "cell_type": "code",
   "execution_count": 2,
   "id": "6a2fc983",
   "metadata": {},
   "outputs": [],
   "source": [
    "try:\n",
    "    df = pd.read_csv('llm_persona_experiment_results.csv')\n",
    "except FileNotFoundError:\n",
    "    print(\"Error: 'llm_persona_experiment_results.csv' not found.\")\n",
    "    print(\"Please make sure the CSV file is in the same directory as the script.\")\n",
    "    exit()\n",
    "\n",
    "# --- Step 2: Define Metrics and Quantify Responses ---\n",
    "\n",
    "# Define dictionaries of keywords/phrases for each category.\n",
    "hedging_words = [\n",
    "    'might', 'could', 'perhaps', 'seems', 'appears', 'suggests', 'potentially',\n",
    "    'in some cases', 'generally', 'tends to', 'may', 'possible', 'likely', 'complex'\n",
    "]\n",
    "\n",
    "deferential_phrases = [\n",
    "    \"that's a good point\", \"you're right\", \"i understand your perspective\",\n",
    "    \"thank you for clarifying\", \"a valid concern\", \"as you mentioned\"\n",
    "]"
   ]
  },
  {
   "cell_type": "code",
   "execution_count": 3,
   "id": "599c3e98",
   "metadata": {},
   "outputs": [],
   "source": [
    "def count_phrases(text, phrases):\n",
    "    \"\"\"Counts occurrences of a list of phrases in a given text (case-insensitive).\"\"\"\n",
    "    count = 0\n",
    "    if not isinstance(text, str):\n",
    "        return 0\n",
    "    # Use regex with word boundaries (\\b) to ensure whole-word matching\n",
    "    for phrase in phrases:\n",
    "        count += len(re.findall(r'\\b' + re.escape(phrase) + r'\\b', text.lower()))\n",
    "    return count"
   ]
  },
  {
   "cell_type": "code",
   "execution_count": 4,
   "id": "370629d2",
   "metadata": {},
   "outputs": [],
   "source": [
    "df['hedging_score'] = df['target_response'].apply(lambda x: count_phrases(x, hedging_words))\n",
    "df['deference_score'] = df['target_response'].apply(lambda x: count_phrases(x, deferential_phrases))"
   ]
  },
  {
   "cell_type": "code",
   "execution_count": 5,
   "id": "49db90dc",
   "metadata": {},
   "outputs": [],
   "source": [
    "confrontational_scores = df[df['track_type'] == 'Confrontational']\n",
    "cooperative_scores = df[df['track_type'] == 'Cooperative']"
   ]
  },
  {
   "cell_type": "code",
   "execution_count": 6,
   "id": "aa5059f8",
   "metadata": {},
   "outputs": [],
   "source": [
    "hedging_ttest = ttest_ind(confrontational_scores['hedging_score'], cooperative_scores['hedging_score'])\n",
    "deference_ttest = ttest_ind(confrontational_scores['deference_score'], cooperative_scores['deference_score'])"
   ]
  },
  {
   "cell_type": "code",
   "execution_count": 7,
   "id": "6781bd04",
   "metadata": {},
   "outputs": [
    {
     "name": "stdout",
     "output_type": "stream",
     "text": [
      "--- Statistical Analysis Results ---\n",
      "\n",
      "Comparing 'Confrontational' vs. 'Cooperative' tracks:\n",
      "\n",
      "Analysis of Hedging Language:\n",
      "  - T-statistic: -1.5328\n",
      "  - P-value: 0.1336\n",
      "  - Conclusion: The difference in hedging scores is not statistically significant.\n"
     ]
    }
   ],
   "source": [
    "print(\"--- Statistical Analysis Results ---\")\n",
    "print(\"\\nComparing 'Confrontational' vs. 'Cooperative' tracks:\")\n",
    "print(f\"\\nAnalysis of Hedging Language:\")\n",
    "print(f\"  - T-statistic: {hedging_ttest.statistic:.4f}\")\n",
    "print(f\"  - P-value: {hedging_ttest.pvalue:.4f}\")\n",
    "if hedging_ttest.pvalue < 0.05:\n",
    "    print(\"  - Conclusion: The difference in hedging scores is statistically significant.\")\n",
    "else:\n",
    "    print(\"  - Conclusion: The difference in hedging scores is not statistically significant.\")"
   ]
  },
  {
   "cell_type": "code",
   "execution_count": 8,
   "id": "12f9c8ac",
   "metadata": {},
   "outputs": [
    {
     "name": "stdout",
     "output_type": "stream",
     "text": [
      "\n",
      "Analysis of Deferential Language:\n",
      "  - T-statistic: nan\n",
      "  - P-value: nan\n",
      "  - Conclusion: The difference in deference scores is not statistically significant.\n",
      "\n",
      "------------------------------------\n"
     ]
    }
   ],
   "source": [
    "print(f\"\\nAnalysis of Deferential Language:\")\n",
    "print(f\"  - T-statistic: {deference_ttest.statistic:.4f}\")\n",
    "print(f\"  - P-value: {deference_ttest.pvalue:.4f}\")\n",
    "if deference_ttest.pvalue < 0.05:\n",
    "    print(\"  - Conclusion: The difference in deference scores is statistically significant.\")\n",
    "else:\n",
    "    print(\"  - Conclusion: The difference in deference scores is not statistically significant.\")\n",
    "print(\"\\n------------------------------------\")"
   ]
  },
  {
   "cell_type": "code",
   "execution_count": 9,
   "id": "af271582",
   "metadata": {},
   "outputs": [
    {
     "data": {
      "image/png": "[encoded data removed]",
      "text/plain": [
       "<Figure size 1000x700 with 1 Axes>"
      ]
     },
     "metadata": {},
     "output_type": "display_data"
    }
   ],
   "source": [
    "df_melted = df.melt(id_vars='track_type',\n",
    "                    value_vars=['hedging_score', 'deference_score'],\n",
    "                    var_name='Metric',\n",
    "                    value_name='Score')\n",
    "\n",
    "# Clean up metric names for the plot labels\n",
    "df_melted['Metric'] = df_melted['Metric'].str.replace('_', ' ').str.title()\n",
    "\n",
    "# Set the plot style\n",
    "plt.style.use('seaborn-v0_8-whitegrid')\n",
    "fig, ax = plt.subplots(figsize=(10, 7))"
   ]
  },
  {
   "cell_type": "code",
   "execution_count": 10,
   "id": "036366b3",
   "metadata": {},
   "outputs": [
    {
     "data": {
      "text/plain": [
       "<Figure size 640x480 with 0 Axes>"
      ]
     },
     "metadata": {},
     "output_type": "display_data"
    }
   ],
   "source": [
    "sns.barplot(data=df_melted,\n",
    "            x='Metric',\n",
    "            y='Score',\n",
    "            hue='track_type',\n",
    "            ax=ax,\n",
    "            palette={'Confrontational': 'salmon', 'Cooperative': 'skyblue'},\n",
    "            errorbar='sd')\n",
    "\n",
    "# Add titles and labels for clarity\n",
    "ax.set_title('Comparison of LLM Language by Conversation Track', fontsize=16, pad=20)\n",
    "ax.set_xlabel('Linguistic Metric', fontsize=12)\n",
    "ax.set_ylabel('Average Score (Frequency of Phrases)', fontsize=12)\n",
    "ax.legend(title='Track Type')\n",
    "sns.despine()"
   ]
  },
  {
   "cell_type": "code",
   "execution_count": 11,
   "id": "dbb6dd51",
   "metadata": {},
   "outputs": [
    {
     "name": "stdout",
     "output_type": "stream",
     "text": [
      "\n",
      "✅ Visualization saved successfully as 'results_visualization.png'\n"
     ]
    },
    {
     "data": {
      "text/plain": [
       "<Figure size 640x480 with 0 Axes>"
      ]
     },
     "metadata": {},
     "output_type": "display_data"
    }
   ],
   "source": [
    "output_filename = 'results_visualization.png'\n",
    "plt.savefig(output_filename, dpi=300, bbox_inches='tight')\n",
    "\n",
    "print(f\"\\n✅ Visualization saved successfully as '{output_filename}'\")\n"
   ]
  },
  {
   "cell_type": "code",
   "execution_count": null,
   "id": "be0c3059",
   "metadata": {},
   "outputs": [],
   "source": []
  }
 ],
 "metadata": {
  "kernelspec": {
   "display_name": "Python 3",
   "language": "python",
   "name": "python3"
  },
  "language_info": {
   "codemirror_mode": {
    "name": "ipython",
    "version": 3
   },
   "file_extension": ".py",
   "mimetype": "text/x-python",
   "name": "python",
   "nbconvert_exporter": "python",
   "pygments_lexer": "ipython3",
   "version": "3.13.7"
  }
 },
 "nbformat": 4,
 "nbformat_minor": 5
}
